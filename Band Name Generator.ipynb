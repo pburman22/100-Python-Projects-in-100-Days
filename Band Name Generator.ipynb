{
 "cells": [
  {
   "cell_type": "code",
   "execution_count": 9,
   "metadata": {},
   "outputs": [
    {
     "name": "stdout",
     "output_type": "stream",
     "text": [
      "Welcome to the band name generator.\n",
      "Which city you grew up in?New Delhi\n",
      "What is the name of a pet?Michael\n",
      "Your band name could be New Delhi Michael\n"
     ]
    }
   ],
   "source": [
    "# Create a greeting for your program\n",
    "print(\"Welcome to the band name generator.\")\n",
    "\n",
    "# Ask the user for the city that they grew up in\n",
    "city = input(\"Which city you grew up in?\")\n",
    "\n",
    "# Ask the user for the name of a pet\n",
    "pet = input(\"What is the name of a pet?\")\n",
    "\n",
    "# Combine the name of their city and pet and show them their band name\n",
    "print(\"Your band name could be \" + city + \" \" + pet)"
   ]
  },
  {
   "cell_type": "code",
   "execution_count": null,
   "metadata": {},
   "outputs": [],
   "source": []
  }
 ],
 "metadata": {
  "kernelspec": {
   "display_name": "Python 3",
   "language": "python",
   "name": "python3"
  },
  "language_info": {
   "codemirror_mode": {
    "name": "ipython",
    "version": 3
   },
   "file_extension": ".py",
   "mimetype": "text/x-python",
   "name": "python",
   "nbconvert_exporter": "python",
   "pygments_lexer": "ipython3",
   "version": "3.8.3"
  }
 },
 "nbformat": 4,
 "nbformat_minor": 4
}
