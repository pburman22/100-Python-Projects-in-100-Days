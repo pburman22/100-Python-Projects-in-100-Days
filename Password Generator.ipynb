{
 "cells": [
  {
   "cell_type": "code",
   "execution_count": 1,
   "metadata": {},
   "outputs": [],
   "source": [
    "# import library\n",
    "import random"
   ]
  },
  {
   "cell_type": "code",
   "execution_count": 2,
   "metadata": {},
   "outputs": [],
   "source": [
    "# put letters in a list\n",
    "letters = ['a', 'b', 'c', 'd', 'e', 'f', 'g', 'h', 'i', 'j', 'k', 'l', 'm', 'n', 'o', 'p', 'q', 'r', 's', 't', \n",
    "           'u', 'v', 'w', 'x', 'y', 'z', 'A', 'B', 'C', 'D', 'E', 'F', 'G', 'H', 'I', 'J', 'K', 'L', 'M', 'N',\n",
    "          'O', 'P', 'Q', 'R', 'S', 'T', 'U', 'V', 'W', 'X', 'Y', 'Z']\n",
    "\n",
    "# put numbers in a list\n",
    "numbers = ['0', '1', '2', '3', '4', '5', '6', '7', '8', '9']\n",
    "\n",
    "# put symbols in a list\n",
    "symbols = ['!', '@', '#', '$', '%', '^', '&', '*', '(', ')']"
   ]
  },
  {
   "cell_type": "code",
   "execution_count": 3,
   "metadata": {},
   "outputs": [
    {
     "name": "stdout",
     "output_type": "stream",
     "text": [
      "Welcome to my Password Generator!\n"
     ]
    }
   ],
   "source": [
    "# welcome statements\n",
    "print(\"Welcome to my Password Generator!\")"
   ]
  },
  {
   "cell_type": "code",
   "execution_count": 4,
   "metadata": {},
   "outputs": [
    {
     "name": "stdout",
     "output_type": "stream",
     "text": [
      "How many letters would you like in your password?\n",
      "2\n",
      "How many symbols would you like in your password?\n",
      "3\n",
      "How many numbers would you like in your password?\n",
      "4\n"
     ]
    }
   ],
   "source": [
    "# ask for user input\n",
    "letters_input = int(input(\"How many letters would you like in your password?\\n\"))\n",
    "symbols_input = int(input(\"How many symbols would you like in your password?\\n\"))\n",
    "numbers_input = int(input(\"How many numbers would you like in your password?\\n\"))"
   ]
  },
  {
   "cell_type": "code",
   "execution_count": 5,
   "metadata": {},
   "outputs": [
    {
     "name": "stdout",
     "output_type": "stream",
     "text": [
      "['k', 'w', '&', '^', '^', '9', '7', '5', '3']\n",
      "['w', 'k', '^', '7', '9', '^', '5', '&', '3']\n"
     ]
    }
   ],
   "source": [
    "# create an empty list\n",
    "password_list = []\n",
    "\n",
    "# add the letters, symbols, numbers to the empty list\n",
    "for char in range(1, letters_input + 1):\n",
    "    password_list.append(random.choice(letters))\n",
    "\n",
    "for char in range(1, symbols_input + 1):\n",
    "    password_list += random.choice(symbols)\n",
    "    \n",
    "for char in range(1, numbers_input + 1):\n",
    "    password_list += random.choice(numbers)\n",
    "    \n",
    "# create empty string\n",
    "password = \"\"\n",
    "\n",
    "# for loop to add \n",
    "for char in password_list:\n",
    "    password += char\n",
    "    "
   ]
  },
  {
   "cell_type": "code",
   "execution_count": null,
   "metadata": {},
   "outputs": [],
   "source": []
  }
 ],
 "metadata": {
  "kernelspec": {
   "display_name": "Python 3",
   "language": "python",
   "name": "python3"
  },
  "language_info": {
   "codemirror_mode": {
    "name": "ipython",
    "version": 3
   },
   "file_extension": ".py",
   "mimetype": "text/x-python",
   "name": "python",
   "nbconvert_exporter": "python",
   "pygments_lexer": "ipython3",
   "version": "3.8.3"
  }
 },
 "nbformat": 4,
 "nbformat_minor": 4
}
