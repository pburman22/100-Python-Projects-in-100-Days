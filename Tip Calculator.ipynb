{
 "cells": [
  {
   "cell_type": "code",
   "execution_count": 3,
   "metadata": {},
   "outputs": [
    {
     "name": "stdout",
     "output_type": "stream",
     "text": [
      "Welcome to the tip calculator!\n",
      "What was the total bill? $100\n",
      "How much tip woukd you like to give? 10, 12, or 15? 10\n",
      "How many people to split the bill?5\n",
      "Each person should pay $22.0\n"
     ]
    }
   ],
   "source": [
    "# Tip calculator\n",
    "print(\"Welcome to the tip calculator!\")\n",
    "\n",
    "# total bill\n",
    "bill = float(input(\"What was the total bill? $\"))\n",
    "\n",
    "# tip to give\n",
    "tip = int(input(\"How much tip woukd you like to give? 10, 12, or 15? \"))\n",
    "\n",
    "# the number of people to split the tip by\n",
    "people = int(input(\"How many people to split the bill?\"))\n",
    "\n",
    "# tip as percent\n",
    "tip_as_percent = tip / 100\n",
    "\n",
    "# total tip amount\n",
    "total_tip_amount = bill * tip_as_percent\n",
    "\n",
    "# total bill\n",
    "total_bill = bill + total_tip_amount\n",
    "\n",
    "# bill per person\n",
    "bill_per_person = total_bill / people\n",
    "\n",
    "# final amount\n",
    "final_amount = round(bill_per_person, 2)\n",
    "\n",
    "# print the final amount each person will pay\n",
    "print(f\"Each person should pay ${final_amount}\")"
   ]
  },
  {
   "cell_type": "code",
   "execution_count": null,
   "metadata": {},
   "outputs": [],
   "source": []
  }
 ],
 "metadata": {
  "kernelspec": {
   "display_name": "Python 3",
   "language": "python",
   "name": "python3"
  },
  "language_info": {
   "codemirror_mode": {
    "name": "ipython",
    "version": 3
   },
   "file_extension": ".py",
   "mimetype": "text/x-python",
   "name": "python",
   "nbconvert_exporter": "python",
   "pygments_lexer": "ipython3",
   "version": "3.8.3"
  }
 },
 "nbformat": 4,
 "nbformat_minor": 4
}
